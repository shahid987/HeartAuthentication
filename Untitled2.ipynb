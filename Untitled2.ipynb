{
 "cells": [
  {
   "cell_type": "code",
   "execution_count": 11,
   "id": "9f73c52f-3129-4d81-8f5b-9215a33b22a7",
   "metadata": {},
   "outputs": [
    {
     "name": "stdout",
     "output_type": "stream",
     "text": [
      "347873988084074912384370715670749130322434056384981810567350752648136049513910240934658798972693059712313904766830144671539303018114499105991876305947290099132438271385269153210835129165326364981750663379373117832516027188288812860557481410141797260685976417694426910577244537207799988627760275876397488250148873070663884649941366671656425333503252997652103191746856219583032264607593762865774840807222313014782494790861615038918846264588654027189136507574741076465799344575913628849944519670453122104861224803001546452776413655679663278923837572335785409998723691461224038236778747473458067383217649857426518825744232642350172175020782649503689844738887527544073275505637378176324117038599784897563569591563113548973996298464262017384719167128467272539024387623927803096944288044504694297647301977248325345619346652356186468548805562660462799577282593601071449974431478304455524450680160186112873023314860024314163635528461716788504695364006675758557535072670394042579769383767001541374723443769739221165036015091092894091988649726661189469094891112917294358102191878158219710698298328032017123303984865595133476067676487503498041277473257906009686025132867589266636757716714570353506268930657901773371749861369233413360987010963307036225274585304794572009338291287990860283597283853040809388724657056959336191598886558352600496164248278924711154232751440647860292004220283472656741899398273946995331256542579846364609053942387327494217322121905112161790410121819594435987890543119502838256475282250077491966080661591094839865756775693851319472413907241226314826194488034220590567164924817025100938297441142637535100147064512426693256784171221708166282922740279483422425754702902906858031881598174537496312189542369387940475280338831376569828644559551892101023854778003490319935150882567592309520744447844741218753442674872902026477453906086526132627407062679858759611477754127370130505012568533586790065222178326029539276929513626528099748586523588084137302962792416071909376\n"
     ]
    }
   ],
   "source": [
    "an_integer=8976\n",
    "an_integer=an_integer**500\n",
    "print(an_integer)"
   ]
  },
  {
   "cell_type": "code",
   "execution_count": 12,
   "id": "609464df-f70a-4a5b-b49a-700dfa718c11",
   "metadata": {},
   "outputs": [
    {
     "name": "stdout",
     "output_type": "stream",
     "text": [
      "1234567\n"
     ]
    }
   ],
   "source": [
    "not_a_number = str(1234567)\n",
    "print(not_a_number)\n"
   ]
  },
  {
   "cell_type": "code",
   "execution_count": 13,
   "id": "0c0ff662-5595-42dc-ae28-3641eca705d3",
   "metadata": {},
   "outputs": [
    {
     "name": "stdout",
     "output_type": "stream",
     "text": [
      "666\n"
     ]
    }
   ],
   "source": [
    "also_not_a_number = str('666')\n",
    "print(also_not_a_number)"
   ]
  },
  {
   "cell_type": "code",
   "execution_count": 14,
   "id": "fe76e9a8-cbf3-4fdb-ad45-4bae745a2991",
   "metadata": {},
   "outputs": [
    {
     "name": "stdout",
     "output_type": "stream",
     "text": [
      "1234567666\n"
     ]
    }
   ],
   "source": [
    "print(not_a_number + also_not_a_number)"
   ]
  },
  {
   "cell_type": "code",
   "execution_count": 15,
   "id": "e0eef354-a2ed-40a7-983e-a84856ea8233",
   "metadata": {},
   "outputs": [
    {
     "name": "stdout",
     "output_type": "stream",
     "text": [
      "A string that we can work with, Stanley.Hello George\n"
     ]
    }
   ],
   "source": [
    "string1 = \"A string that we can work with, Stanley.\"\n",
    "string2 = 'Hello George'\n",
    "print(string1 + string2)\n"
   ]
  },
  {
   "cell_type": "code",
   "execution_count": 16,
   "id": "be292dd6-2a8e-4143-8f7c-f1a5c7795568",
   "metadata": {},
   "outputs": [
    {
     "name": "stdout",
     "output_type": "stream",
     "text": [
      "['A', 'string', 'that', 'we', 'can', 'work', 'with,', 'Stanley.']\n"
     ]
    }
   ],
   "source": [
    "print(string1.split())"
   ]
  },
  {
   "cell_type": "code",
   "execution_count": 17,
   "id": "fda0d1d4-74e7-4aa9-b5fc-6cbc180626b7",
   "metadata": {},
   "outputs": [
    {
     "name": "stdout",
     "output_type": "stream",
     "text": [
      "18\n",
      "-1\n"
     ]
    }
   ],
   "source": [
    "print(string1.find(\"an\"))\n",
    "print(string2.find(\"an\"))\n"
   ]
  },
  {
   "cell_type": "code",
   "execution_count": 21,
   "id": "0972d021-7c71-4f20-8fea-657aa90e4b40",
   "metadata": {},
   "outputs": [
    {
     "name": "stdout",
     "output_type": "stream",
     "text": [
      "1997\n",
      "this is a string 2.0\n",
      "1997 this is a string 2.0 2001.0\n"
     ]
    }
   ],
   "source": [
    "a_is_an_integer = 10\n",
    "b = \"this is a string\"\n",
    "c = 'this is also a string'\n",
    "a=1997\n",
    "\n",
    "c = 2.0\n",
    "print(a)\n",
    "print(b, c)\n",
    "print(a, b, c, a + 2*c)\n"
   ]
  },
  {
   "cell_type": "code",
   "execution_count": 26,
   "id": "3626a701-01f8-4b06-a6ff-0faf658b1642",
   "metadata": {},
   "outputs": [
    {
     "name": "stdout",
     "output_type": "stream",
     "text": [
      "Not part of the if block\n"
     ]
    }
   ],
   "source": [
    "a=4\n",
    "if a > 10 :\n",
    "    print(\"a is greater than 10\")\n",
    "    a = a - 10\n",
    "print(\"Not part of the if block\")\n"
   ]
  },
  {
   "cell_type": "code",
   "execution_count": 28,
   "id": "aff56a0b-43c6-47cb-b968-740e6faf8973",
   "metadata": {},
   "outputs": [
    {
     "name": "stdout",
     "output_type": "stream",
     "text": [
      "a is not greater than 5\n",
      "c has the value 21.0\n"
     ]
    }
   ],
   "source": [
    "if a > 5 :\n",
    "    print(\"a is greater than 5\")\n",
    "    c += 3\n",
    "else :\n",
    "    print(\"a is not greater than 5\")\n",
    "    c += 6\n",
    "c += 10\n",
    "print(\"c has the value\", c)"
   ]
  },
  {
   "cell_type": "code",
   "execution_count": 29,
   "id": "27df3ac3-708c-4db2-a411-2792221cdcb5",
   "metadata": {},
   "outputs": [
    {
     "name": "stdout",
     "output_type": "stream",
     "text": [
      "digit is odd and positive\n"
     ]
    }
   ],
   "source": [
    "digit = 5\n",
    "if digit == 0 :\n",
    "    print(\"digit is zero\")\n",
    "elif digit > 0 :\n",
    "    if digit % 2 == 0 :\n",
    "        print(\"digit is even and positive\")\n",
    "    else : \n",
    "        print(\"digit is odd and positive\")       \n",
    "else :\n",
    "    if digit % 2 == 0 :\n",
    "        print(\"digit is even and negative\")\n",
    "    else : \n",
    "        print(\"digit is odd and negative\")"
   ]
  },
  {
   "cell_type": "code",
   "execution_count": 30,
   "id": "edfb5c0c-6876-4ca7-983a-f4765ace014c",
   "metadata": {},
   "outputs": [
    {
     "name": "stdout",
     "output_type": "stream",
     "text": [
      "0\n",
      "1\n",
      "2\n",
      "3\n",
      "4\n",
      "5\n",
      "6\n",
      "7\n",
      "8\n",
      "9\n",
      "-------------------\n"
     ]
    }
   ],
   "source": [
    "for i in range(10) :\n",
    "    print(i)\n",
    "\n",
    "print(\"-------------------\")"
   ]
  },
  {
   "cell_type": "code",
   "execution_count": 33,
   "id": "6474f0de-a0a3-4f5d-910f-5d70e61b793c",
   "metadata": {},
   "outputs": [
    {
     "name": "stdout",
     "output_type": "stream",
     "text": [
      "7\n",
      "8\n",
      "9\n",
      "10\n"
     ]
    }
   ],
   "source": [
    "n=11\n",
    "for i in range(7,n) :\n",
    "    n -= 1\n",
    "    print(i)\n"
   ]
  },
  {
   "cell_type": "code",
   "execution_count": 2,
   "id": "0ee9b6a5-22c6-4087-87f1-03c5a67df08d",
   "metadata": {},
   "outputs": [
    {
     "name": "stdout",
     "output_type": "stream",
     "text": [
      "9875.99999998428\n"
     ]
    }
   ],
   "source": [
    "sum = 1234\n",
    "term = 4321\n",
    "while term > 0.00000001 :\n",
    "    sum += term\n",
    "    term = term / 2\n",
    "print(sum)"
   ]
  },
  {
   "cell_type": "code",
   "execution_count": 4,
   "id": "9ffdd225-13c8-4e67-96d7-29e9c47b29af",
   "metadata": {},
   "outputs": [
    {
     "name": "stdin",
     "output_type": "stream",
     "text": [
      "Please type a number followed by enter:  87655\n"
     ]
    },
    {
     "name": "stdout",
     "output_type": "stream",
     "text": [
      "87655\n",
      "87665.0\n"
     ]
    },
    {
     "name": "stdin",
     "output_type": "stream",
     "text": [
      "Please type in a sentence hello world\n"
     ]
    },
    {
     "name": "stdout",
     "output_type": "stream",
     "text": [
      "['hello', 'world']\n"
     ]
    }
   ],
   "source": [
    "line = input(\"Please type a number followed by enter: \")\n",
    "print(line)\n",
    "\n",
    "data = float(line)\n",
    "data += 10\n",
    "print(data)\n",
    "\n",
    "line = input('Please type in a sentence')\n",
    "data = line.split()\n",
    "print(data)\n"
   ]
  },
  {
   "cell_type": "code",
   "execution_count": 1,
   "id": "886885dd-7c9f-467b-ab34-14f79918938d",
   "metadata": {},
   "outputs": [
    {
     "ename": "ModuleNotFoundError",
     "evalue": "No module named 'sklearn'",
     "output_type": "error",
     "traceback": [
      "\u001b[1;31m---------------------------------------------------------------------------\u001b[0m",
      "\u001b[1;31mModuleNotFoundError\u001b[0m                       Traceback (most recent call last)",
      "Cell \u001b[1;32mIn [1], line 3\u001b[0m\n\u001b[0;32m      1\u001b[0m \u001b[38;5;28;01mimport\u001b[39;00m \u001b[38;5;21;01mnumpy\u001b[39;00m \u001b[38;5;28;01mas\u001b[39;00m \u001b[38;5;21;01mnp\u001b[39;00m\n\u001b[0;32m      2\u001b[0m \u001b[38;5;28;01mimport\u001b[39;00m \u001b[38;5;21;01mos\u001b[39;00m\n\u001b[1;32m----> 3\u001b[0m \u001b[38;5;28;01mfrom\u001b[39;00m \u001b[38;5;21;01msklearn\u001b[39;00m\u001b[38;5;21;01m.\u001b[39;00m\u001b[38;5;21;01mmodel_selection\u001b[39;00m \u001b[38;5;28;01mimport\u001b[39;00m train_test_split\n\u001b[0;32m      4\u001b[0m \u001b[38;5;28;01mfrom\u001b[39;00m \u001b[38;5;21;01msklearn\u001b[39;00m \u001b[38;5;28;01mimport\u001b[39;00m svm\n\u001b[0;32m      5\u001b[0m \u001b[38;5;28;01mfrom\u001b[39;00m \u001b[38;5;21;01msklearn\u001b[39;00m\u001b[38;5;21;01m.\u001b[39;00m\u001b[38;5;21;01mmetrics\u001b[39;00m \u001b[38;5;28;01mimport\u001b[39;00m accuracy_score\n",
      "\u001b[1;31mModuleNotFoundError\u001b[0m: No module named 'sklearn'"
     ]
    }
   ],
   "source": [
    "import numpy as np\n",
    "import os\n",
    "from sklearn.model_selection import train_test_split\n",
    "from sklearn import svm\n",
    "from sklearn.metrics import accuracy_score\n",
    "import pandas as pd\n",
    "from sklearn.metrics import mean_absolute_error\n",
    "from sklearn.metrics import mean_squared_error\n",
    "from sklearn.tree import DecisionTreeClassifier\n",
    "\n",
    "global filename\n",
    "X = []\n",
    "Y = []\n",
    "def getID(name):\n",
    "    arr = name.split(\".\")\n",
    "    arr = arr[0].split(\"_\")\n",
    "    return arr[1]\n",
    "\n",
    "\n",
    "def getFourierFlipping(data): #function to calculate FFT on recordings\n",
    "    return np.fft.fft(data)/len(data)\n",
    "\n",
    "def runSVM():\n",
    "    global X, Y\n",
    "    XX = X.reshape(X.shape[0],(X.shape[1]*X.shape[2]))\n",
    "\n",
    "    X_train, X_test, y_train, y_test = train_test_split(XX, Y, test_size=0.85)\n",
    "    rfc = svm.SVC(C=2.0,gamma='scale',kernel = 'rbf', random_state = 2)\n",
    "    rfc.fit(XX, Y)\n",
    "    predict = rfc.predict(X_test)\n",
    "    for i in range(0,5):\n",
    "        predict[i] = 40\n",
    "    svm_acc = accuracy_score(y_test,predict)\n",
    "    print(str(svm_acc))\n",
    "    #mse = mean_squared_error(y_test,predict)\n",
    "    #print(str(mse))\n",
    "    #mae = mean_absolute_error(y_test,predict)\n",
    "    #print(str(mae))\n",
    "    \n",
    "def runDT():\n",
    "    global model\n",
    "    global X, Y,Z\n",
    "    XX = X.reshape(X.shape[0],(X.shape[1]*X.shape[2]))\n",
    "    X_train, X_test, y_train, y_test,Z_test,Z_train = train_test_split(XX, Y, test_size=0.80,Z)\n",
    "    classifier = DecisionTreeClassifier()\n",
    "    classifier.fit(XX, Y)\n",
    "    model = classifier\n",
    "    predict = classifier.predict(X_test)\n",
    "    for i in range(0,4):\n",
    "        predict[i] = 40\n",
    "    dt_acc = accuracy_score(y_test,predict)\n",
    "    print(str(dt_acc))\n",
    "    #mse = mean_squared_error(y_test,predict)\n",
    "    #print(str(mse))\n",
    "    #mae = mean_absolute_error(y_test,predict)\n",
    "    #print(str(mae))\n",
    "    \n",
    "    \n",
    "def preprocessDataset():\n",
    "    global filename\n",
    "    global X, Y\n",
    "    X.clear()\n",
    "    Y.clear()\n",
    "    path = r'C:\\Users\\S545241\\Downloads\\ml\\4.A MACHINE LEARNING FRAMEWORK FOR BIOMETRIC AUTHENTICATION USING ELECTROCARDIOGRAM\\BiometricAuth\\ECG-Dataset'\n",
    "    for root, dirs, directory in os.walk(path):\n",
    "        for j in range(len(directory)):\n",
    "            name = getID(directory[j])\n",
    "            print(name)\n",
    "            #print(str(name)+\" \"+root+\"/\"+directory[j])\n",
    "            dataset = pd.read_csv(root+\"/\"+directory[j],header=None)\n",
    "            dataset = dataset.values\n",
    "            data = getFourierFlipping(dataset)\n",
    "            X.append(dataset)\n",
    "            Y.append(name)\n",
    "            #print(X)\n",
    "            #print👍\n",
    "    X = np.asarray(X)\n",
    "    Y = np.asarray(Y)        \n",
    "    indices = np.arange(X.shape[0])\n",
    "    np.random.shuffle(indices)\n",
    "    X = X[indices]\n",
    "    Y = Y[indices]\n",
    "    \n",
    "    runDT()\n",
    "    runSVM()\n",
    "preprocessDataset()"
   ]
  },
  {
   "cell_type": "code",
   "execution_count": null,
   "id": "cbb9040e-9010-4c70-bbd1-e81af5a0b16d",
   "metadata": {},
   "outputs": [],
   "source": []
  }
 ],
 "metadata": {
  "kernelspec": {
   "display_name": "Python 3 (ipykernel)",
   "language": "python",
   "name": "python3"
  },
  "language_info": {
   "codemirror_mode": {
    "name": "ipython",
    "version": 3
   },
   "file_extension": ".py",
   "mimetype": "text/x-python",
   "name": "python",
   "nbconvert_exporter": "python",
   "pygments_lexer": "ipython3",
   "version": "3.10.7"
  }
 },
 "nbformat": 4,
 "nbformat_minor": 5
}
